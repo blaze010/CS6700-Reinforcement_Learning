{
  "nbformat": 4,
  "nbformat_minor": 0,
  "metadata": {
    "colab": {
      "provenance": [],
      "authorship_tag": "ABX9TyODKBnzWfTOUmNhbUKNCe5k",
      "include_colab_link": true
    },
    "kernelspec": {
      "name": "python3",
      "display_name": "Python 3"
    },
    "language_info": {
      "name": "python"
    }
  },
  "cells": [
    {
      "cell_type": "markdown",
      "metadata": {
        "id": "view-in-github",
        "colab_type": "text"
      },
      "source": [
        "<a href=\"https://colab.research.google.com/github/blaze010/CS6700-Reinforcement_Learning/blob/main/Assignment%201/Programming_Assignment_1.ipynb\" target=\"_parent\"><img src=\"https://colab.research.google.com/assets/colab-badge.svg\" alt=\"Open In Colab\"/></a>"
      ]
    },
    {
      "cell_type": "markdown",
      "source": [
        "# <center >CS6700: Reinforcement Learning\n",
        "## <center >Programming Assignment 1\n",
        "## <center> TD Learning: SARSA and Q-Learning\n",
        "###  Submitted by: \n",
        "### Gautham Govind A: EE19B022\n",
        "### Vishnu Vinod: CS19B048 "
      ],
      "metadata": {
        "id": "1JiAc34_Ixg9"
      }
    },
    {
      "cell_type": "markdown",
      "source": [
        "## Importing necessary packages"
      ],
      "metadata": {
        "id": "QIdfqnCWJV5X"
      }
    },
    {
      "cell_type": "code",
      "source": [],
      "metadata": {
        "id": "Pqvk6fcRJvnu"
      },
      "execution_count": null,
      "outputs": []
    }
  ]
}