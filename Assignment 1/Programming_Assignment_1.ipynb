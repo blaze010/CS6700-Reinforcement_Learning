{
  "nbformat": 4,
  "nbformat_minor": 0,
  "metadata": {
    "colab": {
      "provenance": [],
      "authorship_tag": "ABX9TyPYM70rWxa03NdVzuJy3Ojh",
      "include_colab_link": true
    },
    "kernelspec": {
      "name": "python3",
      "display_name": "Python 3"
    },
    "language_info": {
      "name": "python"
    }
  },
  "cells": [
    {
      "cell_type": "markdown",
      "metadata": {
        "id": "view-in-github",
        "colab_type": "text"
      },
      "source": [
        "<a href=\"https://colab.research.google.com/github/blaze010/CS6700-Reinforcement_Learning/blob/main/Assignment%201/Programming_Assignment_1.ipynb\" target=\"_parent\"><img src=\"https://colab.research.google.com/assets/colab-badge.svg\" alt=\"Open In Colab\"/></a>"
      ]
    },
    {
      "cell_type": "markdown",
      "source": [
        "# <center >CS6700: Reinforcement Learning\n",
        "## <center >Programming Assignment 1\n",
        "## <center> TD Learning: SARSA and Q-Learning\n",
        "###  Submitted by: \n",
        "### Gautham Govind A: EE19B022\n",
        "### Vishnu Vinod: CS19B048 "
      ],
      "metadata": {
        "id": "1JiAc34_Ixg9"
      }
    },
    {
      "cell_type": "markdown",
      "source": [
        "## Importing necessary packages"
      ],
      "metadata": {
        "id": "QIdfqnCWJV5X"
      }
    },
    {
      "cell_type": "code",
      "source": [
        "from math import floor\n",
        "import numpy as np"
      ],
      "metadata": {
        "id": "Pqvk6fcRJvnu"
      },
      "execution_count": 1,
      "outputs": []
    },
    {
      "cell_type": "markdown",
      "source": [
        "## Utility functions"
      ],
      "metadata": {
        "id": "92G2tnyyKIWE"
      }
    },
    {
      "cell_type": "markdown",
      "source": [
        "We require functions capable of converting from row-column based indexing and sequential indexing of grid cells. These are defined below: "
      ],
      "metadata": {
        "id": "eTJ_Hxc2UxYR"
      }
    },
    {
      "cell_type": "code",
      "source": [
        "# Converts row_column format to sequential (state number) format\n",
        "# Input  - 2D array of grid cells in (row, col) format\n",
        "# Output - 1D array of corresponding state numbers\n",
        "def row_col_to_seq(row_col, num_cols): \n",
        "    return row_col[:,0] * num_cols + row_col[:,1]\n",
        "\n",
        "# Converts sequential (state number) format to row_column format \n",
        "# Input  - 1D array of grid cells in state number format\n",
        "# Output - 2D array of grid cells in corresponding (row, col) format \n",
        "def seq_to_col_row(seq, num_cols): \n",
        "    r = floor(seq / num_cols)\n",
        "    c = seq - r * num_cols\n",
        "    return np.array([[r, c]])"
      ],
      "metadata": {
        "id": "i3BOKyqxVAer"
      },
      "execution_count": 2,
      "outputs": []
    },
    {
      "cell_type": "markdown",
      "source": [
        "## Defining the environment"
      ],
      "metadata": {
        "id": "SnJXDjixV8pp"
      }
    },
    {
      "cell_type": "markdown",
      "source": [
        "The environment class, the definition of which has already been provided as part of the problem statement, is defined here:"
      ],
      "metadata": {
        "id": "kXwJVRiaWA8P"
      }
    },
    {
      "cell_type": "code",
      "source": [
        "class GridWorld:\n",
        "\n",
        "    \"\"\"\n",
        "    Creates a gridworld object to pass to an RL algorithm.\n",
        "    Parameters:\n",
        "    ----------\n",
        "    num_rows : int\n",
        "        The number of rows in the gridworld.\n",
        "    num_cols : int\n",
        "        The number of cols in the gridworld.\n",
        "    start_state : numpy array of shape (1, 2), np.array([[row, col]])\n",
        "        The start state of the gridworld (can only be one start state)\n",
        "    goal_states : numpy arrany of shape (n, 2)\n",
        "        The goal states for the gridworld where n is the number of goal\n",
        "        states.\n",
        "    \"\"\"\n",
        "    \n",
        "    def __init__(self, num_rows, num_cols, start_state, goal_states, wind = False):\n",
        "        self.num_rows = num_rows\n",
        "        self.num_cols = num_cols\n",
        "        self.start_state = start_state\n",
        "        self.goal_states = goal_states\n",
        "        self.obs_states = None\n",
        "        self.bad_states = None\n",
        "        self.num_bad_states = 0\n",
        "        self.p_good_trans = None\n",
        "        self.bias = None\n",
        "        self.r_step = None\n",
        "        self.r_goal = None\n",
        "        self.r_dead = None\n",
        "        self.gamma = 1 # default is no discounting\n",
        "        self.wind = wind\n",
        "\n",
        "    def add_obstructions(self, obstructed_states=None, bad_states=None, restart_states=None):\n",
        "\n",
        "        self.obs_states = obstructed_states\n",
        "        self.bad_states = bad_states\n",
        "        if bad_states is not None:\n",
        "            self.num_bad_states = bad_states.shape[0]\n",
        "        else:\n",
        "            self.num_bad_states = 0\n",
        "        self.restart_states = restart_states\n",
        "        if restart_states is not None:\n",
        "            self.num_restart_states = restart_states.shape[0]\n",
        "        else:\n",
        "            self.num_restart_states = 0\n",
        "\n",
        "    def add_transition_probability(self, p_good_transition, bias):\n",
        "\n",
        "        self.p_good_trans = p_good_transition\n",
        "        self.bias = bias\n",
        "\n",
        "    def add_rewards(self, step_reward, goal_reward, bad_state_reward=None, restart_state_reward = None):\n",
        "\n",
        "        self.r_step = step_reward\n",
        "        self.r_goal = goal_reward\n",
        "        self.r_bad = bad_state_reward\n",
        "        self.r_restart = restart_state_reward\n",
        "\n",
        "\n",
        "    def create_gridworld(self):\n",
        "\n",
        "        self.num_actions = 4\n",
        "        self.num_states = self.num_cols * self.num_rows# +1\n",
        "        self.start_state_seq = row_col_to_seq(self.start_state, self.num_cols)\n",
        "        self.goal_states_seq = row_col_to_seq(self.goal_states, self.num_cols)\n",
        "\n",
        "        # rewards structure\n",
        "        self.R = self.r_step * np.ones((self.num_states, 1))\n",
        "        #self.R[self.num_states-1] = 0\n",
        "        self.R[self.goal_states_seq] = self.r_goal\n",
        "        \n",
        "        for i in range(self.num_bad_states):\n",
        "            if self.r_bad is None:\n",
        "                raise Exception(\"Bad state specified but no reward is given\")\n",
        "            bad_state = row_col_to_seq(self.bad_states[i,:].reshape(1,-1), self.num_cols)\n",
        "            #print(\"bad states\", bad_state)\n",
        "            self.R[bad_state, :] = self.r_bad\n",
        "        for i in range(self.num_restart_states):\n",
        "            if self.r_restart is None:\n",
        "                raise Exception(\"Restart state specified but no reward is given\")\n",
        "            restart_state = row_col_to_seq(self.restart_states[i,:].reshape(1,-1), self.num_cols)\n",
        "            #print(\"restart_state\", restart_state)\n",
        "            self.R[restart_state, :] = self.r_restart\n",
        "\n",
        "        # probability model\n",
        "        if self.p_good_trans == None:\n",
        "            raise Exception(\"Must assign probability and bias terms via the add_transition_probability method.\")\n",
        "\n",
        "        self.P = np.zeros((self.num_states,self.num_states,self.num_actions))\n",
        "        for action in range(self.num_actions):\n",
        "            for state in range(self.num_states):\n",
        "\n",
        "\n",
        "                # check if the state is the goal state or an obstructed state - transition to end\n",
        "                row_col = seq_to_col_row(state, self.num_cols)\n",
        "                if self.obs_states is not None:\n",
        "                    end_states = np.vstack((self.obs_states, self.goal_states))\n",
        "                else:\n",
        "                    end_states = self.goal_states\n",
        "\n",
        "                if any(np.sum(np.abs(end_states-row_col), 1) == 0):\n",
        "                    self.P[state, state, action] = 1\n",
        "\n",
        "                # else consider stochastic effects of action\n",
        "                else:\n",
        "                    for dir in range(-1,2,1):\n",
        "                        \n",
        "                        direction = self._get_direction(action, dir)\n",
        "                        next_state = self._get_state(state, direction)\n",
        "                        if dir == 0:\n",
        "                            prob = self.p_good_trans\n",
        "                        elif dir == -1:\n",
        "                            prob = (1 - self.p_good_trans)*(self.bias)\n",
        "                        elif dir == 1:\n",
        "                            prob = (1 - self.p_good_trans)*(1-self.bias)\n",
        "\n",
        "                        self.P[state, next_state, action] += prob\n",
        "\n",
        "                # make restart states transition back to the start state with\n",
        "                # probability 1\n",
        "                if self.restart_states is not None:\n",
        "                    if any(np.sum(np.abs(self.restart_states-row_col),1)==0):\n",
        "                        next_state = row_col_to_seq(self.start_state, self.num_cols)\n",
        "                        self.P[state,:,:] = 0\n",
        "                        self.P[state,next_state,:] = 1\n",
        "        return self\n",
        "\n",
        "    def _get_direction(self, action, direction):\n",
        "\n",
        "        left = [2,3,1,0]\n",
        "        right = [3,2,0,1]\n",
        "        if direction == 0:\n",
        "            new_direction = action\n",
        "        elif direction == -1:\n",
        "            new_direction = left[action]\n",
        "        elif direction == 1:\n",
        "            new_direction = right[action]\n",
        "        else:\n",
        "            raise Exception(\"getDir received an unspecified case\")\n",
        "        return new_direction\n",
        "\n",
        "    def _get_state(self, state, direction):\n",
        "\n",
        "        row_change = [-1,1,0,0]\n",
        "        col_change = [0,0,-1,1]\n",
        "        row_col = seq_to_col_row(state, self.num_cols)\n",
        "        row_col[0,0] += row_change[direction]\n",
        "        row_col[0,1] += col_change[direction]\n",
        "\n",
        "        # check for invalid states\n",
        "        if self.obs_states is not None:\n",
        "            if (np.any(row_col < 0) or\n",
        "                np.any(row_col[:,0] > self.num_rows-1) or\n",
        "                np.any(row_col[:,1] > self.num_cols-1) or\n",
        "                np.any(np.sum(abs(self.obs_states - row_col), 1)==0)):\n",
        "                next_state = state\n",
        "            else:\n",
        "                next_state = row_col_to_seq(row_col, self.num_cols)[0]\n",
        "        else:\n",
        "            if (np.any(row_col < 0) or\n",
        "                np.any(row_col[:,0] > self.num_rows-1) or\n",
        "                np.any(row_col[:,1] > self.num_cols-1)):\n",
        "                next_state = state\n",
        "            else:\n",
        "                next_state = row_col_to_seq(row_col, self.num_cols)[0]\n",
        "\n",
        "        return next_state\n",
        "\n",
        "    def reset(self):\n",
        "      return int(self.start_state_seq)\n",
        "      \n",
        "    def step(self, state, action):\n",
        "        p, r = 0, np.random.random()\n",
        "        for next_state in range(self.num_states):\n",
        "            \n",
        "            p += self.P[state, next_state, action]\n",
        "            \n",
        "            if r <= p:\n",
        "                break\n",
        "\n",
        "        if(self.wind and np.random.random() < 0.4):\n",
        "\n",
        "          arr = self.P[next_state, :, 3]\n",
        "          next_next = np.where(arr == np.amax(arr))\n",
        "          next_next = next_next[0][0]\n",
        "          return next_next, self.R[next_next]\n",
        "        else:\n",
        "          return next_state, self.R[next_state]"
      ],
      "metadata": {
        "id": "uzwVett_WwPW"
      },
      "execution_count": 3,
      "outputs": []
    },
    {
      "cell_type": "markdown",
      "source": [
        "## Policy Definitions"
      ],
      "metadata": {
        "id": "Mbej1hYjaKOF"
      }
    },
    {
      "cell_type": "markdown",
      "source": [
        "First, we create an abstract BasePolicy() class:"
      ],
      "metadata": {
        "id": "y_B7nqBPaRZ5"
      }
    },
    {
      "cell_type": "code",
      "source": [
        "class BasePolicy:\n",
        "\n",
        "  def select_action(self, state_id):\n",
        "    raise NotImplemented"
      ],
      "metadata": {
        "id": "E8wqIujOaWt3"
      },
      "execution_count": 6,
      "outputs": []
    },
    {
      "cell_type": "markdown",
      "source": [
        "We first create an epsilon greedy policy which makes use of action value functions as the quantity based on which actions are chosen:"
      ],
      "metadata": {
        "id": "qk5pElngdAdg"
      }
    },
    {
      "cell_type": "code",
      "source": [
        "class EpsilonGreedy(BasePolicy):\n",
        "\n",
        "# epsilon      : epsilon value to be used by epsilon-greedy\n",
        "# actions      : Possible actions that can be taken up in each state\n",
        "#              : Default set for the current problem \n",
        "  def __init__(self, epsilon, actions = np.array([0, 1, 2, 3])):\n",
        "    self.eps = epsilon\n",
        "    self.actions = actions\n",
        "\n",
        "# action_values: 2D array containing predicted action values for each (state, action) pair\n",
        "#              : array size is |S|*4, i.e, total number of states x total number of actions\n",
        "# state_id     : state for which action is to be determined\n",
        "  def select_action(self, state_id, action_values):\n",
        "\n",
        "    # To explore or not to explore is the question\n",
        "    explore_or_exploit = np.random.binomial(1, 1 - self.epsilon)\n",
        "\n",
        "    # if exploit, select the arm with maximum value of action value function\n",
        "    if explore_or_exploit == 1:\n",
        "        return self.actions[max(action_values, key = lambda x: action_values[state_id, x])]\n",
        "\n",
        "    # if explore, choose any one of the arms randomly\n",
        "    else:\n",
        "        return np.random.choice(self.actions)\n"
      ],
      "metadata": {
        "id": "Tq9xPdMfdPBJ"
      },
      "execution_count": 7,
      "outputs": []
    },
    {
      "cell_type": "code",
      "source": [
        "class SoftMax(BasePolicy):\n",
        "\n",
        "# beta      : temperature to be used by softmax function\n",
        "  def __init__(self, beta, actions = np.array([0, 1, 2, 3])):\n",
        "    self.beta = beta\n",
        "    self.actions = actions\n",
        "\n",
        "# action_values: 2D array containing predicted action values for each (state, action) pair\n",
        "#              : array size is |S|*4, i.e, total number of states x total number of actions\n",
        "# state_id     : state for which action is to be determined\n",
        "  def select_action(self, state_id, action_values):\n",
        "\n",
        "    # Finding the largest action value for this particular state\n",
        "    max_action_val = max(action_values[state_id, :])\n",
        "\n",
        "    # Computing the denominator of the softmax expression\n",
        "    # Note that each term is divided by the largest exponential\n",
        "    softmax_prob_denom = np.sum(np.exp((action_values[state_id, :] - max_action_val)/self.beta))\n",
        "\n",
        "    # Computing the numerator term for each action\n",
        "    # Again, terms are divided by the largest exponential to maintatin consistency with denominator\n",
        "    softmax_prob = np.array([ np.exp((x - max_action_val) /self.beta)/softmax_prob_denom for x in list(action_values[state_id, :])])\n",
        "\n",
        "    # sample according to the softmax distribution to get an arm\n",
        "    return np.random.choice(self.actions, p = softmax_prob)"
      ],
      "metadata": {
        "id": "ihnhSGZMi4P5"
      },
      "execution_count": 8,
      "outputs": []
    },
    {
      "cell_type": "code",
      "source": [],
      "metadata": {
        "id": "EVbg8OyUl9ki"
      },
      "execution_count": null,
      "outputs": []
    }
  ]
}